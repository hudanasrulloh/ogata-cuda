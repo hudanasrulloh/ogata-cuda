{
  "nbformat": 4,
  "nbformat_minor": 0,
  "metadata": {
    "colab": {
      "provenance": [],
      "gpuType": "T4",
      "authorship_tag": "ABX9TyOkrPueCnkgowdi4q0i/Kjs",
      "include_colab_link": true
    },
    "kernelspec": {
      "name": "python3",
      "display_name": "Python 3"
    },
    "language_info": {
      "name": "python"
    },
    "accelerator": "GPU"
  },
  "cells": [
    {
      "cell_type": "markdown",
      "metadata": {
        "id": "view-in-github",
        "colab_type": "text"
      },
      "source": [
        "<a href=\"https://colab.research.google.com/github/hudanasrulloh/ogata-cuda/blob/main/FBT.ipynb\" target=\"_parent\"><img src=\"https://colab.research.google.com/assets/colab-badge.svg\" alt=\"Open In Colab\"/></a>"
      ]
    },
    {
      "cell_type": "code",
      "execution_count": null,
      "metadata": {
        "id": "j-Y3ti-z2tuV",
        "colab": {
          "base_uri": "https://localhost:8080/"
        },
        "outputId": "eee93179-b04d-4560-9664-a27195b58261"
      },
      "outputs": [
        {
          "output_type": "stream",
          "name": "stdout",
          "text": [
            "Overwriting FBT.cu\n"
          ]
        }
      ],
      "source": [
        "----"
      ]
    },
    {
      "cell_type": "markdown",
      "source": [
        "Project of Fourier-Bessel Transform"
      ],
      "metadata": {
        "id": "5iaM4UYbRoPk"
      }
    },
    {
      "cell_type": "code",
      "source": [
        "%%writefile FBT.cu \n",
        "\n",
        "// (1 Parameter ) Transform\n",
        "#define _USE_MATH_DEFINES // using M_PI for pi\n",
        "\n",
        "#include <cmath> // abs\n",
        "#include <mwaitxintrin.h>\n",
        "#include <iostream>\n",
        "#include <fstream>\n",
        "#include <functional> \n",
        "#include <cuda_runtime.h>\n",
        "#include \"FBT.cuh\"\n",
        "#include \"MathFunctions.cuh\" // include CUDA source file here\n",
        "#include <cub/cub.cuh>\n",
        "#include <cub/block/block_reduce.cuh>\n",
        "#include <numeric>\n",
        "\n",
        "#include <boost/math/tools/minima.hpp>\n",
        "/*\n",
        "//acknowledgement\n",
        "void FBT::acknowledgement(){\n",
        "    std::cout << \"###############################################################################\" << std::endl;\n",
        "    std::cout << \"#                                                                             #\" << std::endl;\n",
        "    std::cout << \"#                Fast Bessel Transform (FBT) for TMDs                         #\" << std::endl;\n",
        "    std::cout << \"#     Zhongbo Kang, Alexei Prokudin, Nobuo Sato, John Terry                   #\" << std::endl;\n",
        "    std::cout << \"#                   Please cite Kang:2019ctl                                  #\" << std::endl;\n",
        "    std::cout << \"#                  nu is Bessel function order                                #\" << std::endl;\n",
        "    std::cout << \"#                  option = 0,1,2  (modified, unmodified, fixed h) Ogata      #\" << std::endl;\n",
        "    std::cout << \"#                  N is number of function calls                              #\" << std::endl;\n",
        "    std::cout << \"#                  Q initial guess where function has maximum                 #\" << std::endl;\n",
        "    std::cout << \"#                  ::::::::::::::::::::::::::::::                             #\" << std::endl;\n",
        "    std::cout << \"#                  :::::::::::::::::::::::::::::                              #\" << std::endl;\n",
        "    std::cout << \"#                  Inspired by all those above guys                           #\" << std::endl;\n",
        "    std::cout << \"#                  MODIFIED by Kasava (huda nasrulloh)                        #\" << std::endl;\n",
        "    std::cout << \"#                  USTC, Modern Physics, 2023                                 #\" << std::endl;\n",
        "    std::cout << \"#                  Maximum N for stability less than 500                      #\" << std::endl;\n",
        "    std::cout << \"#                  CUDA Toolkit 8.0 or higher                                 #\" << std::endl;\n",
        "    std::cout << \"#                  CUDA version 10.1 or higher                                #\" << std::endl;\n",
        "    std::cout << \"#                  --- Thank you using this platform ----                     #\" << std::endl;\n",
        "    std::cout << \"##--------- Optimized with GPU ---- By HN ----- 2023  ------------------------#\" << std::endl;\n",
        "    std::cout << \"###############################################################################\" << std::endl;\n",
        "};\n",
        "\n",
        "//citation\n",
        "void FBT::citation(){\n",
        "    std::cout << \"###############################################################################\" << std::endl;\n",
        "    std::cout << \"#                     Thank you for using FBT!                                #\" << std::endl;\n",
        "    std::cout << \"# Please, cite Kang:2019ctl if used for a publication                         #\" << std::endl;\n",
        "    std::cout << \"# --------------  on process for me Kasava (huda nasrulloh)  -------          #\" << std::endl;\n",
        "    std::cout << \"###############################################################################\" << std::endl;\n",
        "};\n",
        "*/\n",
        "// Deconstructor\n",
        "FBT::~FBT(){\n",
        "  //jn_zeros0.~vector<double>();\n",
        "  //citation();\n",
        "};\n",
        "\n",
        "\n",
        "__device__ double get_psi_device(double t){\n",
        "  return ( t )*tanh( M_PI/2.* sinh( t ) );\n",
        "};\n",
        "\n",
        "__device__ double get_psip_device(double t){\n",
        "  return M_PI*t*( -pow(tanh( M_PI*sinh(t)/2.),2) + 1.)*cosh(t)/2. + tanh(M_PI*sinh(t)/2.);\n",
        "};\n",
        "\n",
        "__device__ double f_for_ogata_device(double x, double q){\n",
        "  return g_(x/q)/q;\n",
        "};\n",
        "\n",
        "\n",
        "// Constructor\n",
        "FBT::FBT(double _nu, int _option, int _N, double _Q){\n",
        "    if( _nu >= 0.){\n",
        "    this->nu     = _nu;\n",
        "    } else {\n",
        "        std::cerr << \" The value of nu = \" << _nu << \" is not supported.\" << std::endl;\n",
        "        std::cerr << \" Falling back to default  nu = \" << FBT::nu_def << std::endl;\n",
        "        this->nu     = FBT::nu_def;\n",
        "    }\n",
        "\n",
        "    if( _N >= 1){\n",
        "        this->N     = _N;\n",
        "    } else {\n",
        "        std::cerr << \" The value of N = \" << _N << \" is not supported.\" << std::endl;\n",
        "        std::cerr << \" Falling back to default  N = \"  << FBT::N_def <<std::endl;\n",
        "        this->N     = FBT::N_def;\n",
        "    }\n",
        "\n",
        "    if( _Q > 0){\n",
        "        this->Q     = _Q;\n",
        "    } else {\n",
        "        std::cerr << \" The value of Q = \" << _Q << \" is not supported.\" << std::endl;\n",
        "        std::cerr << \" Falling back to default  Q = \"  << FBT::Q_def <<std::endl;\n",
        "        this->Q     = FBT::Q_def;\n",
        "    }\n",
        "\n",
        "    if( _option <= 2 && _option >= 0){\n",
        "        this->option     = _option;\n",
        "    } else {\n",
        "        std::cerr << \" The value of option = \" << _option << \" is not supported.\" << std::endl;\n",
        "        std::cerr << \" Falling back to default  option = \"  << FBT::option_def <<std::endl;\n",
        "        this->option     = FBT::option_def;\n",
        "    }\n",
        "\n",
        "    // read precomputed data from a file\n",
        "    std::string filename = \"precomputed_data.txt\";\n",
        "    std::ifstream in_file(filename);\n",
        "    std::vector<double> jn_zeros0_host, zeros_host, xi_host, Jp1_host, w_host;\n",
        "    if (in_file.is_open()) {\n",
        "        double a, b, c, d, e;\n",
        "        while (in_file >> a >> b >> c >> d >> e) {\n",
        "            jn_zeros0_host.push_back(a);\n",
        "            zeros_host.push_back(b);\n",
        "            xi_host.push_back(c);\n",
        "            Jp1_host.push_back(d);\n",
        "            w_host.push_back(e);\n",
        "        }\n",
        "    in_file.close();\n",
        "    } else {\n",
        "        std::cerr << \"Unable to open file \" << filename << std::endl;\n",
        "    // handle error\n",
        "    }\n",
        "    this->jn_zeros0 = jn_zeros0_host;\n",
        "    this->zeros = zeros_host;\n",
        "    this-> xi = xi_host ;\n",
        "    this-> w = w_host;\n",
        "\n",
        "    //acknowledgement();\n",
        "};\n",
        "\n",
        "\n",
        "__global__ void ogatau_kernel(int N, double q, double* h, double* xi, double* w, double* d_block_results) {\n",
        "    typedef cub::BlockReduce<double, 128> BlockReduce;\n",
        "    __shared__ typename BlockReduce::TempStorage temp_storage;\n",
        "\n",
        "    int i = threadIdx.x + blockIdx.x * blockDim.x;\n",
        "\n",
        "    double thread_data = 0;\n",
        "    if (i < N) {\n",
        "        int nu = 0;\n",
        "        double knots = xi[i]*(*h);\n",
        "        double F = f_for_ogata_device(knots, q)*jn(nu, knots);\n",
        "        thread_data = (*h)*w[i]*F;  // Calculate the result in each thread\n",
        "    }\n",
        "\n",
        "    double block_sum = BlockReduce(temp_storage).Sum(thread_data);\n",
        "\n",
        "    // Only the first thread in the block writes to global memory\n",
        "    if (threadIdx.x == 0) {\n",
        "        d_block_results[blockIdx.x] = block_sum;\n",
        "    }\n",
        "}\n",
        "\n",
        "__global__ void ogatat_kernel(int N, double q, double* h, double* xi, double* w, double* d_block_results) {\n",
        "    typedef cub::BlockReduce<double, 128> BlockReduce;\n",
        "    __shared__ typename BlockReduce::TempStorage temp_storage;\n",
        "\n",
        "    int i = threadIdx.x + blockIdx.x * blockDim.x;\n",
        "\n",
        "    double thread_data = 0;\n",
        "    if (i < N) {\n",
        "        int nu = 0;\n",
        "        double knots = M_PI/(*h)*get_psi_device((*h)*xi[i]);\n",
        "        double Jnu = jn(nu, knots); // Using j0() here, assuming nu = 0\n",
        "        double F = f_for_ogata_device(knots, q);\n",
        "        double psip = std::isnan(get_psip_device((*h)*xi[i])) ? 1. : get_psip_device((*h)*xi[i]);\n",
        "        thread_data = M_PI * F * Jnu * psip * w[i];  // Calculate the result in each thread\n",
        "    \n",
        "    }\n",
        "\n",
        "    double block_sum = BlockReduce(temp_storage).Sum(thread_data);\n",
        "\n",
        "    // Only the first thread in the block writes to global memory\n",
        "    if (threadIdx.x == 0) {\n",
        "        d_block_results[blockIdx.x] = block_sum;\n",
        "        \n",
        "    }\n",
        "}\n",
        "\n",
        "\n",
        "//double f_for_get_hu\n",
        "double f_for_get_hu(double x, std::function<double (double) > g, double q){\n",
        "   return -abs(x*g(x/q));\n",
        "};\n",
        "\n",
        "//\"\"\"Determines the untransformed hu by maximizing contribution to first node.\"\"\"\n",
        "double FBT::get_hu(std::function<double (double) > f, double q){\n",
        "  double Q = this->Q;\n",
        "\n",
        "  double zero1 = jn_zeros0[0];\n",
        "  const int double_bits = std::numeric_limits<double>::digits;\n",
        "  std::pair<double, double> r = boost::math::tools::brent_find_minima(std::bind(f_for_get_hu, std::placeholders::_1, f, q), Q/10., 10.*Q, double_bits);\n",
        "\n",
        "  double hu = r.first/zero1*M_PI;\n",
        "  if(hu >= 2.){\n",
        "    hu = 2.;\n",
        "//    std::cerr<< \"Warning: Number of nodes is too small N = \" << this->N << std::endl;\n",
        "  }\n",
        "\n",
        "  return hu;\n",
        "};\n",
        "\n",
        "\n",
        "//\"Determine transformed ht from untransformed hu.\"\n",
        "double FBT::get_ht(double hu){\n",
        "  int N = this->N;\n",
        "\n",
        "  double zeroN = double(jn_zeros0[N-1]);\n",
        "\n",
        "  return M_PI/zeroN*asinh(2./M_PI*atanh(hu/M_PI));\n",
        "};\n",
        "\n",
        "double FBT::fbt(double q){\n",
        "\n",
        "    double hu = 0.0;\n",
        "    double ht = 0.0;\n",
        "    int N = this->N;\n",
        "\n",
        "    // Checking the number of CUDA devices and setting the current device.\n",
        "    int num_devices;\n",
        "    cudaGetDeviceCount(&num_devices);\n",
        "    if (num_devices > 1) {\n",
        "        //std::cout << \"Multiple GPUs detected. Selecting GPU 0.\" << std::endl;\n",
        "        // Select GPU\n",
        "        int device = 0;  \n",
        "        cudaSetDevice(device);\n",
        "    } else if (num_devices == 1) {\n",
        "        //std::cout << \"One GPU detected.\" << std::endl;\n",
        "    } else {\n",
        "        //std::cout << \"No CUDA-capable GPU detected.\" << std::endl;\n",
        "        return -1;  \n",
        "    }\n",
        "\n",
        "    // allocate GPU memory\n",
        "    double* d_res;\n",
        "    double* d_h;\n",
        "\n",
        "    // Allocate device memory\n",
        "    double* d_xi;\n",
        "    double* d_w;\n",
        "\n",
        "    cudaMalloc(&d_xi, xi.size() * sizeof(double));\n",
        "    cudaMalloc(&d_w, w.size() * sizeof(double));\n",
        "\n",
        "    cudaMemcpy(d_xi, xi.data(), xi.size() * sizeof(double), cudaMemcpyHostToDevice);\n",
        "    cudaMemcpy(d_w, w.data(), w.size() * sizeof(double), cudaMemcpyHostToDevice);\n",
        "\n",
        "    cudaMalloc((void**)&d_res, sizeof(double));\n",
        "    cudaMalloc((void**)&d_h, sizeof(double));\n",
        "\n",
        "    double* d_block_results;  // Device array to hold per-block results\n",
        "    cudaMalloc(&d_block_results, N * sizeof(double));\n",
        "\n",
        "    // define block and grid size\n",
        "    dim3 blockSize(128);\n",
        "    dim3 gridSize((N + blockSize.x - 1) / blockSize.x);\n",
        "    cudaDeviceSynchronize();\n",
        "    cudaError_t cudaStatus = cudaDeviceSynchronize();\n",
        "    if (cudaStatus != cudaSuccess) {\n",
        "        fprintf(stderr, \"cudaDeviceSynchronize returned error code %d before launching kernel!\\n\", cudaStatus);\n",
        "    }\n",
        "\n",
        "    double* h_block_results = new double[N];\n",
        "    double final_result;\n",
        "\n",
        "    if (this->option == 0){ // default modified Ogata\n",
        "        double hu = get_hu(g_,q);\n",
        "        ht = get_ht(hu);\n",
        "        cudaMemcpy(d_h, &ht, sizeof(double), cudaMemcpyHostToDevice);\n",
        "        ogatat_kernel<<<gridSize, blockSize>>>(N, q, d_h, d_xi, d_w, d_block_results);\n",
        "        \n",
        "        cudaDeviceSynchronize();\n",
        "        cudaError_t err = cudaGetLastError();\n",
        "        if (err != cudaSuccess) {\n",
        "            printf(\"Error after kernel launch: %s\\n\", cudaGetErrorString(err));\n",
        "        }\n",
        "\n",
        "        //reducing the results\n",
        "        cudaMemcpy(h_block_results, d_block_results, N * sizeof(double), cudaMemcpyDeviceToHost);\n",
        "        final_result = std::accumulate(h_block_results, h_block_results + N, 0.0);\n",
        "        } else if (this->option == 1){ // unmodified Ogata\n",
        "        double hu = get_hu(g_,q);\n",
        "\n",
        "        cudaMemcpy(d_h, &hu, sizeof(double), cudaMemcpyHostToDevice);                        \n",
        "        ogatau_kernel<<<gridSize, blockSize>>>(N, q, d_h, d_xi, d_w, d_block_results);\n",
        "        \n",
        "        cudaDeviceSynchronize();\n",
        "        cudaError_t err = cudaGetLastError();\n",
        "        if (err != cudaSuccess) {\n",
        "            printf(\"Error after kernel launch: %s\\n\", cudaGetErrorString(err));\n",
        "        }\n",
        "\n",
        "        //reducing the results\n",
        "        cudaMemcpy(h_block_results, d_block_results, N * sizeof(double), cudaMemcpyDeviceToHost);\n",
        "        final_result = std::accumulate(h_block_results, h_block_results + N, 0.0);\n",
        "\n",
        "        } else if (this->option == 2){ // modified Ogata h = 0.05\n",
        "        hu = 0.05;\n",
        "        cudaMemcpy(d_h, &hu, sizeof(double), cudaMemcpyHostToDevice);\n",
        "        ogatat_kernel<<<gridSize, blockSize>>>(N, q, d_h, d_xi, d_w, d_block_results);\n",
        "\n",
        "        cudaDeviceSynchronize();\n",
        "        cudaError_t err = cudaGetLastError();\n",
        "        if (err != cudaSuccess) {\n",
        "            printf(\"Error after kernel launch: %s\\n\", cudaGetErrorString(err));\n",
        "        }\n",
        "\n",
        "        //reducing the results\n",
        "        cudaMemcpy(h_block_results, d_block_results, N * sizeof(double), cudaMemcpyDeviceToHost);\n",
        "        final_result = std::accumulate(h_block_results, h_block_results + N, 0.0);\n",
        "    };\n",
        "\n",
        "    // copy back result from device to host\n",
        "    double result = final_result; \n",
        "\n",
        "    // Free device memory\n",
        "    cudaFree(d_xi);\n",
        "    cudaFree(d_w);\n",
        "    cudaFree(d_h);\n",
        "    cudaFree(d_block_results);\n",
        "\n",
        "    delete[] h_block_results;\n",
        "\n",
        "    return result;\n",
        "}\n"
      ],
      "metadata": {
        "colab": {
          "base_uri": "https://localhost:8080/"
        },
        "id": "NYBasKY0ht2y",
        "outputId": "431114b9-bf56-4a1a-a31c-0775412adc18"
      },
      "execution_count": 2,
      "outputs": [
        {
          "output_type": "stream",
          "name": "stdout",
          "text": [
            "Writing FBT.cu\n"
          ]
        }
      ]
    },
    {
      "cell_type": "code",
      "source": [
        "%%writefile FBT.cuh\n",
        "\n",
        "#define CUB_IGNORE_DEPRECATED_CPP_DIALECT\n",
        "#ifndef __FBT_CUH__\n",
        "#define __FBT_CUH__\n",
        "#include <algorithm>    // std::copy\n",
        "#include <vector>          // std::vector\n",
        "#include <functional>      // std::bind\n",
        "#include <cmath>           // std::abs\n",
        "#include <iostream>\n",
        "\n",
        "namespace cmath = std; \n",
        "\n",
        "typedef double (*func_t)(double, double);\n",
        "\n",
        "class FBT {\n",
        "private:\n",
        "  double nu; \n",
        "  int N; \n",
        "  double Q;  \n",
        "  int option;\n",
        "  constexpr static double nu_def = 0.0;\n",
        "  const static int N_def = 300;\n",
        "  const static int option_def = 0; \n",
        "  constexpr static double Q_def = 1.; \n",
        "  std::vector<double> jn_zeros0;\n",
        "  std::vector<double> zeros;\n",
        "  std::vector<double> xi;\n",
        "  std::vector<double> w;\n",
        "\n",
        "  //void acknowledgement();\n",
        "  //void citation();\n",
        "\n",
        "  double get_ht(double hu);\n",
        "  double get_hu(std::function<double (double) > f,  double q);\n",
        "  double get_hu2p( func_t f , double q, double width);\n",
        "\n",
        "public:\n",
        "  FBT(double _nu = nu_def, int option = option_def, int _N = N_def, double _Q = Q_def); // Constructor\n",
        "  //FBT(double _nu, int _option, int _N, double _Q);\n",
        "  ~FBT(); // Deconstructor\n",
        "\n",
        "\n",
        "  double fbt(double q);\n",
        "  double fbt2p(double q, double width);\n",
        "\n",
        "};\n",
        "\n",
        "#endif // __FBT_CUH__\n"
      ],
      "metadata": {
        "colab": {
          "base_uri": "https://localhost:8080/"
        },
        "id": "0oi0K_GXATlK",
        "outputId": "5053d2f3-3aff-4f74-850f-ddb34ba6f7c6"
      },
      "execution_count": 3,
      "outputs": [
        {
          "output_type": "stream",
          "name": "stdout",
          "text": [
            "Writing FBT.cuh\n"
          ]
        }
      ]
    },
    {
      "cell_type": "code",
      "source": [
        "%%writefile BoostMath.cpp\n",
        "\n",
        "#include <boost/math/special_functions/bessel.hpp>\n",
        "#include <vector>\n",
        "#include <fstream>\n",
        "#include <iostream>\n",
        "\n",
        "void computeBoostMathValues(double nu, int maxN) {\n",
        "    std::vector<double> jn_zeros0;\n",
        "    std::vector<double> zeros;\n",
        "    std::vector<double> xi;\n",
        "    std::vector<double> Jp1;\n",
        "    std::vector<double> w;\n",
        "\n",
        "    try {\n",
        "        boost::math::cyl_bessel_j_zero(nu, 1, maxN, std::back_inserter(jn_zeros0));\n",
        "        for (size_t i = 0; i < maxN; i++) {\n",
        "            if (jn_zeros0[i] == 0) {\n",
        "                throw std::runtime_error(\"jn_zeros0[i] is zero.\");\n",
        "            }\n",
        "            zeros.push_back(jn_zeros0[i]);\n",
        "            xi.push_back(jn_zeros0[i]/M_PI);\n",
        "            Jp1.push_back(boost::math::cyl_bessel_j(nu+1.,M_PI*xi[i]));\n",
        "            if (Jp1[i] != 0) {\n",
        "              w.push_back(boost::math::cyl_neumann(nu,M_PI*xi[i])/Jp1[i]);\n",
        "            } else {\n",
        "              w.push_back(0);\n",
        "            }  \n",
        "        }\n",
        "    }\n",
        "    catch (std::exception& ex) {\n",
        "        std::cout << \"Thrown exception \" << ex.what() << std::endl;\n",
        "        return; // early return on exception\n",
        "    }\n",
        "\n",
        "    // write results to a file\n",
        "    std::ofstream out_file(\"precomputed_data.txt\");\n",
        "    for (size_t i = 0; i < maxN; i++) {\n",
        "        out_file << jn_zeros0[i] << \" \" << zeros[i] << \" \" << xi[i] << \" \" << Jp1[i] << \" \" << w[i] << \"\\n\";\n",
        "    }\n",
        "    out_file.close();\n",
        "}\n",
        "\n",
        "int main() {\n",
        "    // example values for nu and maxN, change these to your needs\n",
        "    double nu = 0.0;\n",
        "    const int maxN = 100;\n",
        "    \n",
        "    computeBoostMathValues(nu, maxN);\n",
        "    \n",
        "    return 0;\n",
        "}\n",
        "\n"
      ],
      "metadata": {
        "colab": {
          "base_uri": "https://localhost:8080/"
        },
        "id": "f7JyoK99Aoed",
        "outputId": "9c5ed291-720b-4f20-c3ed-7cae45e50963"
      },
      "execution_count": 4,
      "outputs": [
        {
          "output_type": "stream",
          "name": "stdout",
          "text": [
            "Writing BoostMath.cpp\n"
          ]
        }
      ]
    },
    {
      "cell_type": "code",
      "source": [
        "!g++ BoostMath.cpp -o doc"
      ],
      "metadata": {
        "id": "uqsBOEJ8uCCf"
      },
      "execution_count": 5,
      "outputs": []
    },
    {
      "cell_type": "code",
      "source": [
        "!./doc"
      ],
      "metadata": {
        "id": "-_jY8k8WuHgT"
      },
      "execution_count": 6,
      "outputs": []
    },
    {
      "cell_type": "code",
      "source": [
        "%%writefile MathFunctions2p.cuh\n",
        "\n",
        "#ifndef __MATHFUNCTIONS2p_CUH__\n",
        "#define __MATHFUNCTIONS2p_CUH__\n",
        "\n",
        "\n",
        "__host__ __device__ double func_(double x, double width) { return x*exp(-x/width); }\n",
        "\n",
        "\n",
        "#endif // MATHFUNCTIONS2p_CUH_\n"
      ],
      "metadata": {
        "colab": {
          "base_uri": "https://localhost:8080/"
        },
        "id": "W0KqwHapS41X",
        "outputId": "5750e4f4-cc75-4bc3-b7f8-3da5717b2c36"
      },
      "execution_count": 7,
      "outputs": [
        {
          "output_type": "stream",
          "name": "stdout",
          "text": [
            "Writing MathFunctions2p.cuh\n"
          ]
        }
      ]
    },
    {
      "cell_type": "code",
      "source": [
        "\n",
        "%%writefile MathFunctions.cuh\n",
        "\n",
        "#ifndef __MATHFUNCTIONS_CUH__\n",
        "#define __MATHFUNCTIONS_CUH__\n",
        "\n",
        "\n",
        "\n",
        "// Function Definition\n",
        "__host__ __device__ double g_(double x) { return x*exp(-x*x); }\n",
        "\n",
        "\n",
        "#endif // MATHFUNCTIONS_CUH_\n"
      ],
      "metadata": {
        "colab": {
          "base_uri": "https://localhost:8080/"
        },
        "id": "tDjhpACtAwHN",
        "outputId": "702562cb-32d9-402d-bfe7-729ae901431a"
      },
      "execution_count": 8,
      "outputs": [
        {
          "output_type": "stream",
          "name": "stdout",
          "text": [
            "Writing MathFunctions.cuh\n"
          ]
        }
      ]
    },
    {
      "cell_type": "code",
      "source": [
        "%%writefile example.cu\n",
        "\n",
        "#include <math.h>\n",
        "#include <cmath>\n",
        "#include <stdio.h>\n",
        "#include <iostream>\n",
        "#include <iomanip>\n",
        "#include <chrono>\n",
        "#include \"FBT.cuh\"\n",
        "\n",
        "#define _USE_MATH_DEFINES\n",
        "\n",
        "__host__ __device__ double exact1( double qT ){ return exp(-qT*qT/4.)/2.;} // test function\n",
        "\n",
        "\n",
        "int main(void)\n",
        "{\n",
        "    FBT ogata0 = FBT(0, 0, 200, 1); \n",
        "    FBT ogata1 = FBT(0, 1, 200, 1); \n",
        "    FBT ogata2 = FBT(0, 2, 200, 1); \n",
        "    FBT ogata_def = FBT();\n",
        "\n",
        "    double qT = 1.;\n",
        "\n",
        "    double res0 = ogata0.fbt(qT); \n",
        "    double res1 = ogata1.fbt(qT); \n",
        "    double res2 = ogata2.fbt(qT); \n",
        "    double res_def = ogata_def.fbt(qT); \n",
        "\n",
        "    std::cout << std::setprecision(30) << \"Exact = \" << exact1(qT) << std::endl;\n",
        "    std::cout << std::setprecision(30) << \"Numerical Ogata Opt_t = \" << res0 << std::endl;\n",
        "    std::cout << std::setprecision(30) << \"Numerical Ogata UnOpt = \" << res1 << std::endl;\n",
        "    std::cout << std::setprecision(30) << \"Numerical Ogata h-fixed (0.05) = \" << res2 << std::endl;\n",
        "    std::cout << std::setprecision(30) << \"Numerical Ogata SetDef_ = \" << res_def << std::endl;\n",
        "    //...\n",
        "    return 0;\n",
        "}\n"
      ],
      "metadata": {
        "colab": {
          "base_uri": "https://localhost:8080/"
        },
        "id": "XEJNGns0A4gw",
        "outputId": "26b0127e-40b9-4635-ee0e-d2c643cd3f1d"
      },
      "execution_count": 9,
      "outputs": [
        {
          "output_type": "stream",
          "name": "stdout",
          "text": [
            "Writing example.cu\n"
          ]
        }
      ]
    },
    {
      "cell_type": "code",
      "source": [
        "!nvcc -std=c++11 example.cu FBT.cu -o example"
      ],
      "metadata": {
        "id": "F8gDwlSHBXvl"
      },
      "execution_count": 17,
      "outputs": []
    },
    {
      "cell_type": "code",
      "source": [
        "!chmod +x example"
      ],
      "metadata": {
        "id": "hvSbLstOx1Rx"
      },
      "execution_count": 18,
      "outputs": []
    },
    {
      "cell_type": "code",
      "source": [
        "!./example"
      ],
      "metadata": {
        "colab": {
          "base_uri": "https://localhost:8080/"
        },
        "id": "0y2JooAmBliM",
        "outputId": "072931f6-ed05-478e-d8b1-2487f782c528"
      },
      "execution_count": 19,
      "outputs": [
        {
          "output_type": "stream",
          "name": "stdout",
          "text": [
            "Exact = 0.389400391535702439238519900755\n",
            "Numerical Ogata Opt_t = 0.389400875936993740022984411553\n",
            "Numerical Ogata UnOpt = 0.362642273751486443611469212556\n",
            "Numerical Ogata h-fixed (0.05) = 0.391671898726995981743215224924\n",
            "Numerical Ogata SetDef_ = 0.389412052802656394323577160321\n"
          ]
        }
      ]
    },
    {
      "cell_type": "code",
      "source": [
        "%%writefile example2p.cu\n",
        "\n",
        "#include <math.h>\n",
        "#include <stdio.h>\n",
        "#include <iostream>\n",
        "#include <iomanip>\n",
        "#include <chrono>\n",
        "#include \"FBT.cuh\"\n",
        "\n",
        "__host__ __device__ double exact( double qT){ return pow((1.+qT*qT),-1.5);} // test function\n",
        "\n",
        "\n",
        "int main(void)\n",
        "{\n",
        "    FBT ogata0_2p = FBT(0, 0, 200, 1); \n",
        "    FBT ogata1_2p = FBT(0, 1, 200, 1); \n",
        "    FBT ogata2_2p = FBT(0, 2, 200, 1); \n",
        "    FBT ogata_def_2p = FBT();\n",
        "\n",
        "    double qT = 1.;\n",
        "    double width = 1.;\n",
        "    double res0 = ogata0_2p.fbt2p(qT , width); \n",
        "    double res1 = ogata1_2p.fbt2p(qT , width);\n",
        "    double res2 = ogata2_2p.fbt2p(qT , width);\n",
        "    double res_def = ogata_def_2p.fbt2p(qT , width); \n",
        "\n",
        "    std::cout << std::setprecision(30) << \"Exact = \" << exact(qT) << std::endl;\n",
        "    std::cout << std::setprecision(30) << \"Numerical Ogata Opt_t 2p = \" << res0 << std::endl;\n",
        "    std::cout << std::setprecision(30) << \"Numerical Ogata UnOpt 2p = \" << res1 << std::endl;\n",
        "    std::cout << std::setprecision(30) << \"Numerical Ogata h-fixed(0.05) 2p = \" << res2 << std::endl;\n",
        "    std::cout << std::setprecision(30) << \"Numerical Ogata SetDef_ 2p = \" << res_def << std::endl;\n",
        "\n",
        "    return 0;\n",
        "}\n"
      ],
      "metadata": {
        "colab": {
          "base_uri": "https://localhost:8080/"
        },
        "id": "2PPlRgFBTXzk",
        "outputId": "fca71632-7381-49c3-9d35-6adb912bed34"
      },
      "execution_count": 13,
      "outputs": [
        {
          "output_type": "stream",
          "name": "stdout",
          "text": [
            "Writing example2p.cu\n"
          ]
        }
      ]
    },
    {
      "cell_type": "code",
      "source": [
        "%%writefile runtime.cu\n",
        "\n",
        "#include <cuda_runtime.h>\n",
        "#include <stdio.h>\n",
        "\n",
        "int main() {\n",
        "    cudaSetDevice(0);\n",
        "\n",
        "    int driverVersion = 0, runtimeVersion = 0;\n",
        "    cudaDriverGetVersion(&driverVersion);\n",
        "    cudaRuntimeGetVersion(&runtimeVersion);\n",
        "\n",
        "    printf(\"CUDA Driver Version: %d\\n\", driverVersion);\n",
        "    printf(\"CUDA Runtime Version: %d\\n\", runtimeVersion);\n",
        "\n",
        "    return 0;\n",
        "}\n"
      ],
      "metadata": {
        "colab": {
          "base_uri": "https://localhost:8080/"
        },
        "id": "9jYakluqCErL",
        "outputId": "13ccf951-a2c5-43e8-db04-89dc6c4f9733"
      },
      "execution_count": null,
      "outputs": [
        {
          "output_type": "stream",
          "name": "stdout",
          "text": [
            "Writing runtime.cu\n"
          ]
        }
      ]
    },
    {
      "cell_type": "code",
      "source": [
        "%%writefile FBT-v2-2p.cu\n",
        "\n",
        "// (2 Parameter) Transform\n",
        "\n",
        "#define _USE_MATH_DEFINES // using M_PI for pi\n",
        "\n",
        "#include <cmath> // abs\n",
        "#include <mwaitxintrin.h>\n",
        "#include <iostream>\n",
        "#include <fstream>\n",
        "#include <functional> \n",
        "#include <cuda_runtime.h>\n",
        "#include \"FBT.cuh\"\n",
        "#include \"MathFunctions2p.cuh\" // include MathFunctions for 2 Parameters\n",
        "#include <cub/cub.cuh>\n",
        "#include <cub/block/block_reduce.cuh>\n",
        "#include <numeric>\n",
        "\n",
        "#include <boost/math/tools/minima.hpp>\n",
        "/*\n",
        "//acknowledgement\n",
        "void FBT::acknowledgement(){\n",
        "    std::cout << \"###############################################################################\" << std::endl;\n",
        "    std::cout << \"#                                                                             #\" << std::endl;\n",
        "    std::cout << \"#                Fast Bessel Transform (FBT) for TMDs                         #\" << std::endl;\n",
        "    std::cout << \"#     Zhongbo Kang, Alexei Prokudin, Nobuo Sato, John Terry                   #\" << std::endl;\n",
        "    std::cout << \"#                   Please cite Kang:2019ctl                                  #\" << std::endl;\n",
        "    std::cout << \"#                  nu is Bessel function order                                #\" << std::endl;\n",
        "    std::cout << \"#                  option = 0,1,2  (modified, unmodified, fixed h) Ogata      #\" << std::endl;\n",
        "    std::cout << \"#                  N is number of function calls                              #\" << std::endl;\n",
        "    std::cout << \"#                  Q initial guess where function has maximum                 #\" << std::endl;\n",
        "    std::cout << \"#                  ::::::::::::::::::::::::::::::                             #\" << std::endl;\n",
        "    std::cout << \"#                  :::::::::::::::::::::::::::::                              #\" << std::endl;\n",
        "    std::cout << \"#                  Inspired by all those above guys                           #\" << std::endl;\n",
        "    std::cout << \"#                  MODIFIED by Kasava (huda nasrulloh)                        #\" << std::endl;\n",
        "    std::cout << \"#                  USTC, Modern Physics, 2023                                 #\" << std::endl;\n",
        "    std::cout << \"#                  Maximum N for stability less than 500                      #\" << std::endl;\n",
        "    std::cout << \"#                  CUDA Toolkit 8.0 or higher                                 #\" << std::endl;\n",
        "    std::cout << \"#                  CUDA version 10.1 or higher                                #\" << std::endl;\n",
        "    std::cout << \"#                  --- Thank you using this platform ----                     #\" << std::endl;\n",
        "    std::cout << \"##--------- Optimized with GPU ---- By HN ----- 2023  ------------------------#\" << std::endl;\n",
        "    std::cout << \"###############################################################################\" << std::endl;\n",
        "};\n",
        "\n",
        "//citation\n",
        "void FBT::citation(){\n",
        "    std::cout << \"###############################################################################\" << std::endl;\n",
        "    std::cout << \"#                     Thank you for using FBT!                                #\" << std::endl;\n",
        "    std::cout << \"# Please, cite Kang:2019ctl if used for a publication                         #\" << std::endl;\n",
        "    std::cout << \"# --------------  on process for me Kasava (huda nasrulloh)  -------          #\" << std::endl;\n",
        "    std::cout << \"###############################################################################\" << std::endl;\n",
        "};\n",
        "*/\n",
        "// Deconstructor\n",
        "FBT::~FBT(){\n",
        "  //jn_zeros0.~vector<double>();\n",
        "  //citation();\n",
        "};\n",
        "\n",
        "\n",
        "__device__ double get_psi_device(double t){\n",
        "  return ( t )*tanh( M_PI/2.* sinh( t ) );\n",
        "};\n",
        "\n",
        "__device__ double get_psip_device(double t){\n",
        "  return M_PI*t*( -pow(tanh( M_PI*sinh(t)/2.),2) + 1.)*cosh(t)/2. + tanh(M_PI*sinh(t)/2.);\n",
        "};\n",
        "\n",
        "\n",
        "__device__ double f_for_ogata_device2p(double x, double width, double q){\n",
        "  return func_(x/q, width) / q;\n",
        "}\n",
        "\n",
        "\n",
        "// Constructor\n",
        "FBT::FBT(double _nu, int _option, int _N, double _Q){\n",
        "    if( _nu >= 0.){\n",
        "    this->nu     = _nu;\n",
        "    } else {\n",
        "        std::cerr << \" The value of nu = \" << _nu << \" is not supported.\" << std::endl;\n",
        "        std::cerr << \" Falling back to default  nu = \" << FBT::nu_def << std::endl;\n",
        "        this->nu     = FBT::nu_def;\n",
        "    }\n",
        "\n",
        "    if( _N >= 1){\n",
        "        this->N     = _N;\n",
        "    } else {\n",
        "        std::cerr << \" The value of N = \" << _N << \" is not supported.\" << std::endl;\n",
        "        std::cerr << \" Falling back to default  N = \"  << FBT::N_def <<std::endl;\n",
        "        this->N     = FBT::N_def;\n",
        "    }\n",
        "\n",
        "    if( _Q > 0){\n",
        "        this->Q     = _Q;\n",
        "    } else {\n",
        "        std::cerr << \" The value of Q = \" << _Q << \" is not supported.\" << std::endl;\n",
        "        std::cerr << \" Falling back to default  Q = \"  << FBT::Q_def <<std::endl;\n",
        "        this->Q     = FBT::Q_def;\n",
        "    }\n",
        "\n",
        "    if( _option <= 2 && _option >= 0){\n",
        "        this->option     = _option;\n",
        "    } else {\n",
        "        std::cerr << \" The value of option = \" << _option << \" is not supported.\" << std::endl;\n",
        "        std::cerr << \" Falling back to default  option = \"  << FBT::option_def <<std::endl;\n",
        "        this->option     = FBT::option_def;\n",
        "    }\n",
        "\n",
        "    // read precomputed data from a file\n",
        "    std::string filename = \"precomputed_data.txt\";\n",
        "    std::ifstream in_file(filename);\n",
        "    std::vector<double> jn_zeros0_host, zeros_host, xi_host, Jp1_host, w_host;\n",
        "    if (in_file.is_open()) {\n",
        "        double a, b, c, d, e;\n",
        "        while (in_file >> a >> b >> c >> d >> e) {\n",
        "            jn_zeros0_host.push_back(a);\n",
        "            zeros_host.push_back(b);\n",
        "            xi_host.push_back(c);\n",
        "            Jp1_host.push_back(d);\n",
        "            w_host.push_back(e);\n",
        "        }\n",
        "    in_file.close();\n",
        "    } else {\n",
        "        std::cerr << \"Unable to open file \" << filename << std::endl;\n",
        "    // handle error\n",
        "    }\n",
        "    this->jn_zeros0 = jn_zeros0_host;\n",
        "    this->zeros = zeros_host;\n",
        "    this-> xi = xi_host ;\n",
        "    this-> w = w_host;\n",
        "\n",
        "    //acknowledgement();\n",
        "};\n",
        "\n",
        "\n",
        "__global__ void ogatau_kernel2p(int N, double q, double width, double* h, double* xi, double* w, double* d_block_results) {\n",
        "    typedef cub::BlockReduce<double, 128> BlockReduce;\n",
        "    __shared__ typename BlockReduce::TempStorage temp_storage;\n",
        "\n",
        "    int i = threadIdx.x + blockIdx.x * blockDim.x;\n",
        "\n",
        "    double thread_data = 0;\n",
        "    if (i < N) {\n",
        "        int nu = 0;\n",
        "        double knots = xi[i]*(*h);\n",
        "        double F = f_for_ogata_device2p(knots, width, q)*jn(nu, knots);\n",
        "        thread_data = (*h)*w[i]*F;  // Calculate the result in each thread\n",
        "    }\n",
        "\n",
        "    double block_sum = BlockReduce(temp_storage).Sum(thread_data);\n",
        "\n",
        "    // Only the first thread in the block writes to global memory\n",
        "    if (threadIdx.x == 0) {\n",
        "        d_block_results[blockIdx.x] = block_sum;\n",
        "    }\n",
        "}\n",
        "\n",
        "__global__ void ogatat_kernel2p(int N, double q, double width, double* h, double* xi, double* w, double* d_block_results) {\n",
        "    typedef cub::BlockReduce<double, 128> BlockReduce;\n",
        "    __shared__ typename BlockReduce::TempStorage temp_storage;\n",
        "\n",
        "    int i = threadIdx.x + blockIdx.x * blockDim.x;\n",
        "\n",
        "    double thread_data = 0;\n",
        "    if (i < N) {\n",
        "        int nu = 0;\n",
        "        double knots = M_PI/(*h)*get_psi_device((*h)*xi[i]);\n",
        "        double Jnu = jn(nu, knots); // Using j0() here, assuming nu = 0\n",
        "        double F = f_for_ogata_device2p(knots, width, q);\n",
        "        double psip = std::isnan(get_psip_device((*h)*xi[i])) ? 1. : get_psip_device((*h)*xi[i]);\n",
        "        thread_data = M_PI * F * Jnu * psip * w[i];  // Calculate the result in each thread\n",
        "    \n",
        "    }\n",
        "\n",
        "    double block_sum = BlockReduce(temp_storage).Sum(thread_data);\n",
        "\n",
        "    // Only the first thread in the block writes to global memory\n",
        "    if (threadIdx.x == 0) {\n",
        "        d_block_results[blockIdx.x] = block_sum;\n",
        "        \n",
        "    }\n",
        "}\n",
        "\n",
        "\n",
        "// now use g as a function pointer\n",
        "double f_for_get_hu2p(double x, double width, func_t g, double q) {\n",
        "   return -abs(x*g(x/q, width)); \n",
        "}\n",
        "\n",
        "\n",
        "//\"\"\"Determines the untransformed hu by maximizing contribution to first node.\"\"\"\n",
        "double FBT::get_hu2p(func_t f , double q, double width){\n",
        "    double Q = this->Q;\n",
        "\n",
        "    // Create a lambda that captures the width, the func_t, and q, \n",
        "    // and will compute the function you want to find the minima of\n",
        "    auto f2 = [f, width, q](double x) { return f_for_get_hu2p(x, width, f, q); };\n",
        "\n",
        "    double zero1 = jn_zeros0[0];\n",
        "    const int double_bits = std::numeric_limits<double>::digits;\n",
        "    std::pair<double, double> r = boost::math::tools::brent_find_minima(f2, Q/10., 10.*Q, double_bits);\n",
        "\n",
        "    double hu = r.first/zero1*M_PI;\n",
        "    if(hu >= 2.){\n",
        "        hu = 2.;\n",
        "        //std::cerr<< \"Warning: Number of nodes is too small N = \" << this->N << std::endl;\n",
        "    }\n",
        "\n",
        "    return hu;\n",
        "};\n",
        "\n",
        "\n",
        "\n",
        "//\"Determine transformed ht from untransformed hu.\"\n",
        "double FBT::get_ht(double hu){\n",
        "  int N = this->N;\n",
        "\n",
        "  double zeroN = double(jn_zeros0[N-1]);\n",
        "\n",
        "  return M_PI/zeroN*asinh(2./M_PI*atanh(hu/M_PI));\n",
        "};\n",
        "\n",
        "double FBT::fbt2p(double q, double width){\n",
        "\n",
        "    double hu2p = 0.0;\n",
        "    double ht2p = 0.0;\n",
        "    int N = this->N;\n",
        "\n",
        "    // Checking the number of CUDA devices and setting the current device.\n",
        "    int num_devices;\n",
        "    cudaGetDeviceCount(&num_devices);\n",
        "    if (num_devices > 1) {\n",
        "        //std::cout << \"Multiple GPUs detected. Selecting GPU 0.\" << std::endl;\n",
        "        // Select GPU\n",
        "        int device = 0;  \n",
        "        cudaSetDevice(device);\n",
        "    } else if (num_devices == 1) {\n",
        "        //std::cout << \"One GPU detected.\" << std::endl;\n",
        "    } else {\n",
        "        //std::cout << \"No CUDA-capable GPU detected.\" << std::endl;\n",
        "        return -1;  \n",
        "    }\n",
        "\n",
        "    // allocate GPU memory\n",
        "    double* d_res;\n",
        "    double* d_h;\n",
        "\n",
        "    // Allocate device memory\n",
        "    double* d_xi;\n",
        "    double* d_w;\n",
        "\n",
        "    cudaMalloc(&d_xi, xi.size() * sizeof(double));\n",
        "    cudaMalloc(&d_w, w.size() * sizeof(double));\n",
        "\n",
        "    cudaMemcpy(d_xi, xi.data(), xi.size() * sizeof(double), cudaMemcpyHostToDevice);\n",
        "    cudaMemcpy(d_w, w.data(), w.size() * sizeof(double), cudaMemcpyHostToDevice);\n",
        "\n",
        "    cudaMalloc((void**)&d_res, sizeof(double));\n",
        "    cudaMalloc((void**)&d_h, sizeof(double));\n",
        "\n",
        "    double* d_block_results;  // Device array to hold per-block results\n",
        "    cudaMalloc(&d_block_results, N * sizeof(double));\n",
        "\n",
        "    // define block and grid size\n",
        "    dim3 blockSize(128);\n",
        "    dim3 gridSize((N + blockSize.x - 1) / blockSize.x);\n",
        "    cudaDeviceSynchronize();\n",
        "    cudaError_t cudaStatus = cudaDeviceSynchronize();\n",
        "    if (cudaStatus != cudaSuccess) {\n",
        "        fprintf(stderr, \"cudaDeviceSynchronize returned error code %d before launching kernel!\\n\", cudaStatus);\n",
        "    }\n",
        "\n",
        "    double* h_block_results = new double[N];\n",
        "    double final_result;\n",
        "\n",
        "    if (this->option == 0){ // default modified Ogata\n",
        "        double hu2p = get_hu2p(func_ , q, width); //2d\n",
        "        ht2p = get_ht(hu2p);  \n",
        "        cudaMemcpy(d_h, &ht2p, sizeof(double), cudaMemcpyHostToDevice);\n",
        "        ogatat_kernel2p<<<gridSize, blockSize>>>(N, q, width, d_h, d_xi, d_w, d_block_results);\n",
        "        \n",
        "        cudaDeviceSynchronize();\n",
        "        cudaError_t err = cudaGetLastError();\n",
        "        if (err != cudaSuccess) {\n",
        "            printf(\"Error after kernel launch: %s\\n\", cudaGetErrorString(err));\n",
        "        }\n",
        "\n",
        "        //reducing the results\n",
        "        cudaMemcpy(h_block_results, d_block_results, N * sizeof(double), cudaMemcpyDeviceToHost);\n",
        "        final_result = std::accumulate(h_block_results, h_block_results + N, 0.0);\n",
        "        } else if (this->option == 1){ // unmodified Ogata\n",
        "        double hu2p = get_hu2p(func_ , q, width); //2d\n",
        "\n",
        "        cudaMemcpy(d_h, &hu2p, sizeof(double), cudaMemcpyHostToDevice);                        \n",
        "        ogatau_kernel2p<<<gridSize, blockSize>>>(N, q, width, d_h, d_xi, d_w, d_block_results);\n",
        "        \n",
        "        cudaDeviceSynchronize();\n",
        "        cudaError_t err = cudaGetLastError();\n",
        "        if (err != cudaSuccess) {\n",
        "            printf(\"Error after kernel launch: %s\\n\", cudaGetErrorString(err));\n",
        "        }\n",
        "\n",
        "        //reducing the results\n",
        "        cudaMemcpy(h_block_results, d_block_results, N * sizeof(double), cudaMemcpyDeviceToHost);\n",
        "        final_result = std::accumulate(h_block_results, h_block_results + N, 0.0);\n",
        "\n",
        "        } else if (this->option == 2){ // modified Ogata h = 0.05\n",
        "        hu2p = 0.05;\n",
        "        cudaMemcpy(d_h, &hu2p, sizeof(double), cudaMemcpyHostToDevice);\n",
        "        ogatat_kernel2p<<<gridSize, blockSize>>>(N, q, width, d_h, d_xi, d_w, d_block_results);\n",
        "\n",
        "        cudaDeviceSynchronize();\n",
        "        cudaError_t err = cudaGetLastError();\n",
        "        if (err != cudaSuccess) {\n",
        "            printf(\"Error after kernel launch: %s\\n\", cudaGetErrorString(err));\n",
        "        }\n",
        "\n",
        "        //reducing the results\n",
        "        cudaMemcpy(h_block_results, d_block_results, N * sizeof(double), cudaMemcpyDeviceToHost);\n",
        "        final_result = std::accumulate(h_block_results, h_block_results + N, 0.0);\n",
        "    };\n",
        "\n",
        "    // copy back result from device to host\n",
        "    double result = final_result; \n",
        "\n",
        "    // Free device memory\n",
        "    cudaFree(d_xi);\n",
        "    cudaFree(d_w);\n",
        "    cudaFree(d_h);\n",
        "    cudaFree(d_block_results);\n",
        "\n",
        "    delete[] h_block_results;\n",
        "\n",
        "    return result;\n",
        "}"
      ],
      "metadata": {
        "colab": {
          "base_uri": "https://localhost:8080/"
        },
        "id": "qX6ELc62TfTp",
        "outputId": "ac289bc3-5a7c-48c2-b5fe-6274d08634c9"
      },
      "execution_count": 14,
      "outputs": [
        {
          "output_type": "stream",
          "name": "stdout",
          "text": [
            "Writing FBT-v2-2p.cu\n"
          ]
        }
      ]
    },
    {
      "cell_type": "code",
      "source": [
        "!nvcc -std=c++11 example2p.cu FBT-v2-2p.cu -o example2p"
      ],
      "metadata": {
        "id": "fB6YLtImTzW9"
      },
      "execution_count": 16,
      "outputs": []
    },
    {
      "cell_type": "code",
      "source": [
        "!chmod +x example2p"
      ],
      "metadata": {
        "id": "COH5nYIYUXvr"
      },
      "execution_count": 20,
      "outputs": []
    },
    {
      "cell_type": "code",
      "source": [
        "!./example2p"
      ],
      "metadata": {
        "id": "3PjG1rTIFT4G",
        "colab": {
          "base_uri": "https://localhost:8080/"
        },
        "outputId": "afdeb8f4-9664-41a1-f370-94a2216e2fc6"
      },
      "execution_count": 21,
      "outputs": [
        {
          "output_type": "stream",
          "name": "stdout",
          "text": [
            "Exact = 0.353553390593273786368655464685\n",
            "Numerical Ogata Opt_t 2p = 0.353558043938260901928316570775\n",
            "Numerical Ogata UnOpt 2p = 0.244403075275275050159962120233\n",
            "Numerical Ogata h-fixed(0.05) 2p = 0.353994206467815430983137048315\n",
            "Numerical Ogata SetDef_ 2p = 0.353602727718632769970952267613\n"
          ]
        }
      ]
    },
    {
      "cell_type": "code",
      "source": [
        "!./r"
      ],
      "metadata": {
        "colab": {
          "base_uri": "https://localhost:8080/"
        },
        "id": "pp09_pyLFZko",
        "outputId": "f5be4d3d-5807-457f-88c8-497982b1a07f"
      },
      "execution_count": null,
      "outputs": [
        {
          "output_type": "stream",
          "name": "stdout",
          "text": [
            "CUDA Driver Version: 12000\n",
            "CUDA Runtime Version: 11080\n"
          ]
        }
      ]
    },
    {
      "cell_type": "code",
      "source": [
        "!nvcc --version"
      ],
      "metadata": {
        "colab": {
          "base_uri": "https://localhost:8080/"
        },
        "id": "XdaT_W_dFblX",
        "outputId": "5977a387-0155-4ac2-ebd2-6ce040c3508e"
      },
      "execution_count": null,
      "outputs": [
        {
          "output_type": "stream",
          "name": "stdout",
          "text": [
            "nvcc: NVIDIA (R) Cuda compiler driver\n",
            "Copyright (c) 2005-2022 NVIDIA Corporation\n",
            "Built on Wed_Sep_21_10:33:58_PDT_2022\n",
            "Cuda compilation tools, release 11.8, V11.8.89\n",
            "Build cuda_11.8.r11.8/compiler.31833905_0\n"
          ]
        }
      ]
    },
    {
      "cell_type": "code",
      "source": [
        "import numpy as np\n",
        "import matplotlib.pyplot as plt\n",
        "import subprocess\n",
        "\n",
        "# Range of q values\n",
        "q_values = np.linspace(0.01, 1.0, 100)\n",
        "\n",
        "# Output lists\n",
        "exact_results = []\n",
        "numerical_transformed_results_01 = []\n",
        "numerical_transformed_results_02 = []\n",
        "numerical_transformed_results_03 = []\n",
        "numerical_transformed_results_04 = []\n",
        "\n",
        "# Call your CUDA program with each q value and store the results\n",
        "for q in q_values:\n",
        "    output = subprocess.check_output([\"./example\", str(q)]).decode(\"utf-8\").strip()\n",
        "\n",
        "    output_lines = output.split(\"\\n\")  # split the output string into lines\n",
        "    results = {}  # store the results in a dictionary\n",
        "    for line in output_lines:\n",
        "        label, number_string = line.split(\"=\")  # split each line into a label and a number string\n",
        "        number = float(number_string)  # convert the number string to a float\n",
        "        results[label.strip()] = number  # store the number in the dictionary under the label\n",
        "\n",
        "    # Save the results in the lists\n",
        "    exact_results.append(results[\"Exact\"])\n",
        "    numerical_transformed_results_01.append(results[\"Numerical Ogata Opt_t\"])\n",
        "    numerical_transformed_results_02.append(results[\"Numerical Ogata UnOpt\"])\n",
        "    numerical_transformed_results_03.append(results[\"Numerical Ogata h-fixed (0.05)\"])\n",
        "    numerical_transformed_results_04.append(results[\"Numerical Ogata SetDef_\"])\n",
        "\n",
        "# Plot the results\n",
        "plt.figure(figsize=(8,4))\n",
        "plt.plot(q_values, exact_results, label=\"Exact\", linestyle='dashdot')\n",
        "plt.plot(q_values, numerical_transformed_results_01, label=\"Numerical Ogata Opt_t\")\n",
        "plt.plot(q_values, numerical_transformed_results_02, label=\"Numerical Ogata UnOpt\")\n",
        "plt.plot(q_values, numerical_transformed_results_03, label=\"Numerical Ogata h-fixed (0.05)\")\n",
        "plt.plot(q_values, numerical_transformed_results_04, label=\"Numerical Ogata SetDef_\", linestyle='--')\n",
        "\n",
        "plt.legend()\n",
        "plt.xlabel('q')\n",
        "plt.ylabel('Result')\n",
        "plt.title('Comparison of results')\n",
        "plt.grid(True)\n",
        "plt.show()\n"
      ],
      "metadata": {
        "id": "tTXI9ZUiKYsR",
        "colab": {
          "base_uri": "https://localhost:8080/",
          "height": 410
        },
        "outputId": "91ca1ed7-2f47-494d-9777-edb18055a079"
      },
      "execution_count": 22,
      "outputs": [
        {
          "output_type": "display_data",
          "data": {
            "text/plain": [
              "<Figure size 800x400 with 1 Axes>"
            ],
            "image/png": "[encoded data removed]"
          },
          "metadata": {}
        }
      ]
    },
    {
      "cell_type": "code",
      "source": [
        "import numpy as np\n",
        "import matplotlib.pyplot as plt\n",
        "import subprocess\n",
        "\n",
        "# Range of q values\n",
        "q_values = np.linspace(0.01, 1.0, 100)\n",
        "\n",
        "# Output lists\n",
        "exact_results = []\n",
        "numerical_transformed_results_01 = []\n",
        "numerical_transformed_results_02 = []\n",
        "numerical_transformed_results_03 = []\n",
        "numerical_transformed_results_04 = []\n",
        "\n",
        "# Call your CUDA program with each q value and store the results\n",
        "for q in q_values:\n",
        "    output = subprocess.check_output([\"./example2p\", str(q)]).decode(\"utf-8\").strip()\n",
        "\n",
        "    output_lines = output.split(\"\\n\")  # split the output string into lines\n",
        "    results = {}  # store the results in a dictionary\n",
        "    for line in output_lines:\n",
        "        label, number_string = line.split(\"=\")  # split each line into a label and a number string\n",
        "        number = float(number_string)  # convert the number string to a float\n",
        "        results[label.strip()] = number  # store the number in the dictionary under the label\n",
        "\n",
        "    # Save the results in the lists\n",
        "    exact_results.append(results[\"Exact\"])\n",
        "    numerical_transformed_results_01.append(results[\"Numerical Ogata Opt_t 2p\"])\n",
        "    numerical_transformed_results_02.append(results[\"Numerical Ogata UnOpt 2p\"])\n",
        "    numerical_transformed_results_03.append(results[\"Numerical Ogata h-fixed(0.05) 2p\"])\n",
        "    numerical_transformed_results_04.append(results[\"Numerical Ogata SetDef_ 2p\"])\n",
        "\n",
        "# Plot the results\n",
        "plt.figure(figsize=(8,4))\n",
        "plt.plot(q_values, exact_results, label=\"Exact\", linestyle='dashdot')\n",
        "plt.plot(q_values, numerical_transformed_results_01, label=\"Numerical Ogata Opt_t (2P)\")\n",
        "plt.plot(q_values, numerical_transformed_results_02, label=\"Numerical Ogata UnOpt (2P)\")\n",
        "plt.plot(q_values, numerical_transformed_results_03, label=\"Numerical Ogata h-fixed (0.05) (2P)\")\n",
        "plt.plot(q_values, numerical_transformed_results_04, label=\"Numerical Ogata SetDef_ (2P)\", linestyle='--')\n",
        "\n",
        "plt.legend()\n",
        "plt.xlabel('q')\n",
        "plt.ylabel('Result')\n",
        "plt.title('Comparison of results')\n",
        "plt.grid(True)\n",
        "plt.show()\n"
      ],
      "metadata": {
        "colab": {
          "base_uri": "https://localhost:8080/",
          "height": 410
        },
        "id": "vEuxTKtMwvOC",
        "outputId": "e250a856-e08d-46bc-fb12-1044a9c8899d"
      },
      "execution_count": 23,
      "outputs": [
        {
          "output_type": "display_data",
          "data": {
            "text/plain": [
              "<Figure size 800x400 with 1 Axes>"
            ],
            "image/png": "[encoded data removed]"
          },
          "metadata": {}
        }
      ]
    },
    {
      "cell_type": "code",
      "source": [
        "%%writefile Makefile\n",
        "\n",
        "NVCC = nvcc\n",
        "NVCC_FLAGS =  -std=c++11 -arch=sm_50\n",
        "G++ = g++\n",
        "\n",
        "EXECUTABLE = fourier_bessel_transform\n",
        "BOOST_EXECUTABLE = boost_math\n",
        "\n",
        "SRC_DIR = src\n",
        "INC_DIR = include\n",
        "\n",
        "CUDA_SOURCES = $(SRC_DIR)/FBT.cu $(SRC_DIR)/example.cu\n",
        "CPP_SOURCE = $(SRC_DIR)/BoostMath.cpp\n",
        "\n",
        "all: $(EXECUTABLE) $(BOOST_EXECUTABLE)\n",
        "\n",
        "$(EXECUTABLE): $(CUDA_SOURCES)\n",
        "\t$(NVCC) $(NVCC_FLAGS) -I$(INC_DIR) -o $@ $^\n",
        "\n",
        "$(BOOST_EXECUTABLE): $(CPP_SOURCE)\n",
        "\t$(G++) -o $@ $^\n",
        "\n",
        "clean:\n",
        "\trm -f $(EXECUTABLE) $(BOOST_EXECUTABLE)\n"
      ],
      "metadata": {
        "id": "vSoTgj4TxIYC",
        "colab": {
          "base_uri": "https://localhost:8080/"
        },
        "outputId": "4d840aee-4a8a-4717-a8d5-718fb06b7bdf"
      },
      "execution_count": 24,
      "outputs": [
        {
          "output_type": "stream",
          "name": "stdout",
          "text": [
            "Writing Makefile\n"
          ]
        }
      ]
    },
    {
      "cell_type": "code",
      "source": [
        "!make"
      ],
      "metadata": {
        "colab": {
          "base_uri": "https://localhost:8080/"
        },
        "id": "HcR6B2_lVasU",
        "outputId": "3ea9eaa7-3a44-45b8-9484-49822ed3a5c5"
      },
      "execution_count": 26,
      "outputs": [
        {
          "output_type": "stream",
          "name": "stdout",
          "text": [
            "nvcc -std=c++11 -arch=sm_50 -Iinclude -o fourier_bessel_transform src/FBT.cu src/example.cu\n",
            "g++ -o boost_math src/BoostMath.cpp\n"
          ]
        }
      ]
    },
    {
      "cell_type": "code",
      "source": [
        "!./boost_math"
      ],
      "metadata": {
        "id": "hDxokUR3V65D"
      },
      "execution_count": 28,
      "outputs": []
    },
    {
      "cell_type": "code",
      "source": [
        "!./fourier_bessel_transform"
      ],
      "metadata": {
        "colab": {
          "base_uri": "https://localhost:8080/"
        },
        "id": "wu7BoGK4Wt2d",
        "outputId": "f51c9306-6eaa-4d43-a812-a8b6b69db137"
      },
      "execution_count": 29,
      "outputs": [
        {
          "output_type": "stream",
          "name": "stdout",
          "text": [
            "Exact = 0.389400391535702439238519900755\n",
            "Numerical Ogata Opt_t = 0.389400875936993740022984411553\n",
            "Numerical Ogata UnOpt = 0.362642273751486443611469212556\n",
            "Numerical Ogata h-fixed (0.05) = 0.391671898726995981743215224924\n",
            "Numerical Ogata SetDef_ = 0.389412052802656394323577160321\n"
          ]
        }
      ]
    },
    {
      "cell_type": "code",
      "source": [],
      "metadata": {
        "id": "HPSkMQanW44w"
      },
      "execution_count": null,
      "outputs": []
    }
  ]
}